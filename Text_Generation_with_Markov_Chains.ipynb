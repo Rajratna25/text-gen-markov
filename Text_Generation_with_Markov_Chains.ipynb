{
  "nbformat": 4,
  "nbformat_minor": 0,
  "metadata": {
    "colab": {
      "provenance": [],
      "authorship_tag": "ABX9TyOvGSWe2eTqeTvsbJBtomnE",
      "include_colab_link": true
    },
    "kernelspec": {
      "name": "python3",
      "display_name": "Python 3"
    },
    "language_info": {
      "name": "python"
    }
  },
  "cells": [
    {
      "cell_type": "markdown",
      "metadata": {
        "id": "view-in-github",
        "colab_type": "text"
      },
      "source": [
        "<a href=\"https://colab.research.google.com/github/Rajratna25/text-gen-markov/blob/main/Text_Generation_with_Markov_Chains.ipynb\" target=\"_parent\"><img src=\"https://colab.research.google.com/assets/colab-badge.svg\" alt=\"Open In Colab\"/></a>"
      ]
    },
    {
      "cell_type": "markdown",
      "source": [
        "# Text Generation with Markov Chains\n",
        "\n",
        "This notebook implements a basic Markov Chain model for text generation using word sequences. A Markov Chain is a probabilistic model that predicts the next state (word/character) based on the current one, assuming the Markov property (memorylessness).\n",
        "\n",
        "---\n",
        "\n",
        "## 🔗 References\n",
        "\n",
        "- [Towards Data Science – Text Generation with Markov Chains](https://towardsdatascience.com/text-generation-with-markov-chains-an-introduction-to-using-markovify-742e6680dc33/)\n",
        "- [GitHub – Aparrish Predictive Text Notebook](https://github.com/aparrish/predictive-text-and-text-generation/blob/master/predictive-text-and-text-generation.ipynb)\n",
        "- [GitHub – Rajratna25/text-gen-markov](https://github.com/Rajratna25/text-gen-markov)\n",
        "\n",
        "---\n",
        "\n",
        "## 🔧 Setup & Clone Repo\n"
      ],
      "metadata": {
        "id": "NCBLoJKKmNjT"
      }
    },
    {
      "cell_type": "code",
      "source": [
        "# Clone the GitHub repository\n",
        "!git clone https://github.com/Rajratna25/text-gen-markov.git\n",
        "%cd text-gen-markov\n"
      ],
      "metadata": {
        "colab": {
          "base_uri": "https://localhost:8080/"
        },
        "id": "pAvR_0_pmKKA",
        "outputId": "fe4eccff-9776-4aa0-b871-e452d25683c0"
      },
      "execution_count": 29,
      "outputs": [
        {
          "output_type": "stream",
          "name": "stdout",
          "text": [
            "Cloning into 'text-gen-markov'...\n",
            "remote: Enumerating objects: 13, done.\u001b[K\n",
            "remote: Counting objects: 100% (13/13), done.\u001b[K\n",
            "remote: Compressing objects: 100% (11/11), done.\u001b[K\n",
            "remote: Total 13 (delta 3), reused 0 (delta 0), pack-reused 0 (from 0)\u001b[K\n",
            "Receiving objects: 100% (13/13), 5.13 KiB | 5.13 MiB/s, done.\n",
            "Resolving deltas: 100% (3/3), done.\n",
            "/content/text-gen-markov/text-gen-markov/text-gen-markov/text-gen-markov\n"
          ]
        }
      ]
    },
    {
      "cell_type": "code",
      "source": [
        "!ls"
      ],
      "metadata": {
        "colab": {
          "base_uri": "https://localhost:8080/"
        },
        "id": "i7yTYCFGmXKW",
        "outputId": "96904680-d402-4b64-81bd-68fe34bf7ce3"
      },
      "execution_count": 30,
      "outputs": [
        {
          "output_type": "stream",
          "name": "stdout",
          "text": [
            "LICENSE  README.md  sample.txt\n"
          ]
        }
      ]
    },
    {
      "cell_type": "code",
      "source": [
        "# Load the text file\n",
        "with open('sample.txt', 'r') as file:\n",
        "    text = file.read()\n",
        "\n",
        "print(text[:1000])  # Preview first 1000 characters\n"
      ],
      "metadata": {
        "colab": {
          "base_uri": "https://localhost:8080/"
        },
        "id": "sq3_dG7tmmXK",
        "outputId": "caada812-870e-4d49-e450-62cdef8e6c16"
      },
      "execution_count": 31,
      "outputs": [
        {
          "output_type": "stream",
          "name": "stdout",
          "text": [
            "In a quiet village nestled between the hills and the forest, life moved slowly and peacefully. The villagers rose with the sun, tended their fields, and gathered in the town square in the evenings to share stories. Among them lived a young boy named Eli, who was known for his curiosity and adventurous spirit.\n",
            "\n",
            "Eli often wandered into the forest, fascinated by the sounds of the birds, the rustling leaves, and the stories the elders told of creatures that lived deep within the trees. One morning, he packed a small bag with bread, cheese, and a notebook and ventured farther than he ever had before.\n",
            "\n",
            "As the sun climbed higher, Eli discovered a narrow trail covered in moss and lined with glowing mushrooms. Intrigued, he followed it until he reached a hidden glade where the air shimmered with light. There, he met an old woman dressed in robes of green and gold. She introduced herself as Mira, the guardian of the forest.\n",
            "\n",
            "Mira told Eli that the forest was alive with ancient magic, and only th\n"
          ]
        }
      ]
    },
    {
      "cell_type": "code",
      "source": [
        "import random\n",
        "\n",
        "def build_markov_chain(text, n=1):\n",
        "    words = text.split()\n",
        "    markov_chain = {}\n",
        "\n",
        "    for i in range(len(words) - n):\n",
        "        key = tuple(words[i:i+n])\n",
        "        next_word = words[i+n]\n",
        "        if key not in markov_chain:\n",
        "            markov_chain[key] = []\n",
        "        markov_chain[key].append(next_word)\n",
        "\n",
        "    return markov_chain  # This must be indented inside the function\n",
        "\n"
      ],
      "metadata": {
        "id": "GEBswclKnTwB"
      },
      "execution_count": 32,
      "outputs": []
    },
    {
      "cell_type": "code",
      "source": [
        "def generate_text(chain, length=50, n=1):\n",
        "    start = random.choice(list(chain.keys()))\n",
        "    result = list(start)\n",
        "\n",
        "    for _ in range(length):\n",
        "        state = tuple(result[-n:])\n",
        "        next_words = chain.get(state)\n",
        "        if not next_words:\n",
        "            break\n",
        "        next_word = random.choice(next_words)\n",
        "        result.append(next_word)\n",
        "\n",
        "    return ' '.join(result)\n"
      ],
      "metadata": {
        "id": "n7w5P7zpnV4B"
      },
      "execution_count": 33,
      "outputs": []
    },
    {
      "cell_type": "code",
      "source": [
        "n = 2  # Order of the Markov chain\n",
        "chain = build_markov_chain(text, n)\n",
        "generated_text = generate_text(chain, 100, n)\n",
        "\n",
        "print(\"Generated Text:\\n\")\n",
        "print(generated_text)\n"
      ],
      "metadata": {
        "colab": {
          "base_uri": "https://localhost:8080/"
        },
        "id": "9ReSvSmepbjA",
        "outputId": "af181e6d-f419-49c3-d527-ec16aec387fc"
      },
      "execution_count": 34,
      "outputs": [
        {
          "output_type": "stream",
          "name": "stdout",
          "text": [
            "Generated Text:\n",
            "\n",
            "told of creatures that lived deep within the trees. One morning, he packed a small bag with bread, cheese, and a notebook and ventured farther than he ever had before. As the sun climbed higher, Eli discovered a narrow trail covered in moss and lined with glowing mushrooms. Intrigued, he followed it until he reached a hidden glade where the light shimmered and the stories lived.\n"
          ]
        }
      ]
    }
  ]
}